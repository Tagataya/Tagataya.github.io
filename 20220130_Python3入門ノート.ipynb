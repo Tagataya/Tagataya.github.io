{
  "nbformat": 4,
  "nbformat_minor": 0,
  "metadata": {
    "colab": {
      "name": "20220130_Python3入門ノート.ipynb",
      "provenance": [],
      "authorship_tag": "ABX9TyOrKUPfc35603TMMD/2I5cG"
    },
    "kernelspec": {
      "name": "python3",
      "display_name": "Python 3"
    },
    "language_info": {
      "name": "python"
    }
  },
  "cells": [
    {
      "cell_type": "markdown",
      "source": [
        "# ■ Ch03 値と変数"
      ],
      "metadata": {
        "id": "CvIbTZqfFAHn"
      }
    },
    {
      "cell_type": "markdown",
      "source": [
        "## ・四捨五入の注意事項"
      ],
      "metadata": {
        "id": "U8nWzLiZOYHZ"
      }
    },
    {
      "cell_type": "code",
      "source": [
        "# 数字の丸め\n",
        "a = 2.5\n",
        "print(round(a))\n",
        "# roundは5の時、結果が偶数になる数字への丸めとなるので注意"
      ],
      "metadata": {
        "colab": {
          "base_uri": "https://localhost:8080/"
        },
        "id": "6WAgLXILKLWO",
        "outputId": "91dbf9ca-804c-4b80-8e1a-2d10432851a0"
      },
      "execution_count": null,
      "outputs": [
        {
          "output_type": "stream",
          "name": "stdout",
          "text": [
            "2\n"
          ]
        }
      ]
    },
    {
      "cell_type": "code",
      "source": [
        "# 正確な四捨五入\n",
        "from decimal import Decimal\n",
        "x = 1234.5678\n",
        "print(type(x))\n",
        "# <class 'float'>\n",
        "a = Decimal(x)\n",
        "print(a) # 1234.567800000000033833202905952930450439453125\n",
        "print(type(a)) # <class 'decimal.Decimal'>"
      ],
      "metadata": {
        "colab": {
          "base_uri": "https://localhost:8080/"
        },
        "id": "-X_Jqo3PMCcv",
        "outputId": "ccb667ea-9642-4509-c704-53fab034a2fd"
      },
      "execution_count": null,
      "outputs": [
        {
          "output_type": "stream",
          "name": "stdout",
          "text": [
            "<class 'float'>\n",
            "1234.567800000000033833202905952930450439453125\n",
            "<class 'decimal.Decimal'>\n"
          ]
        }
      ]
    },
    {
      "cell_type": "code",
      "source": [
        "# 正確な数値にする\n",
        "from decimal import Decimal\n",
        "x = 1234.5678\n",
        "a = Decimal(str(x))\n",
        "print(a)\n",
        "# 1234.5678\n",
        "print(type(a))"
      ],
      "metadata": {
        "colab": {
          "base_uri": "https://localhost:8080/"
        },
        "id": "-PFH8_sCMMPW",
        "outputId": "020dc78b-1221-4842-8b2c-5ef56529cd14"
      },
      "execution_count": null,
      "outputs": [
        {
          "output_type": "stream",
          "name": "stdout",
          "text": [
            "1234.5678\n",
            "<class 'decimal.Decimal'>\n"
          ]
        }
      ]
    },
    {
      "cell_type": "code",
      "source": [
        "# 正確な四捨五入\n",
        "from decimal import Decimal, ROUND_HALF_UP\n",
        "\n",
        "x1 = 1234.5\n",
        "a = Decimal(str(x1))\n",
        "print(a)\n",
        "b = a.quantize(Decimal('0'), rounding=ROUND_HALF_UP)\n",
        "print(b) \n",
        "\n",
        "# 少数点以下のときは0.1とか0.01で指定\n",
        "x2 = 1234.55\n",
        "a2 = Decimal(str(x2))\n",
        "print(a2)\n",
        "b2 = a2.quantize(Decimal('0.1'), rounding=ROUND_HALF_UP)\n",
        "print(b2) \n",
        "\n",
        "# 整数部で四捨五入のときは1E1,1E2でint表記にする\n",
        "x3 = 1245.55\n",
        "a3 = Decimal(str(x3))\n",
        "print(a3)\n",
        "b3 = int(a3.quantize(Decimal('1E2'), rounding=ROUND_HALF_UP))\n",
        "print(b3) "
      ],
      "metadata": {
        "colab": {
          "base_uri": "https://localhost:8080/"
        },
        "id": "E0tX8PTmMdYz",
        "outputId": "4f0c56ea-51c9-4ec7-a3d1-53ef790ab0c6"
      },
      "execution_count": null,
      "outputs": [
        {
          "output_type": "stream",
          "name": "stdout",
          "text": [
            "1234.5\n",
            "1235\n",
            "1234.55\n",
            "1234.6\n",
            "1245.55\n",
            "1200\n"
          ]
        }
      ]
    },
    {
      "cell_type": "markdown",
      "source": [
        "## ・2進数、8進数、16進数、複素数"
      ],
      "metadata": {
        "id": "ykzRcO7aOeBF"
      }
    },
    {
      "cell_type": "code",
      "source": [
        "# 2進数\n",
        "print(0b1011)\n",
        "print(bin(0b1001+0b1011)) # 2進数のまま\n",
        "# 8進数\n",
        "print(0o11)\n",
        "print(oct(0o67+0o11))\n",
        "# 16進数\n",
        "print(0x1011)\n",
        "print(hex(0xaaa+0x426))"
      ],
      "metadata": {
        "colab": {
          "base_uri": "https://localhost:8080/"
        },
        "id": "nrn_VlfTOrDc",
        "outputId": "e1a96006-a91f-47d1-d9fd-14ad3ab44d17"
      },
      "execution_count": null,
      "outputs": [
        {
          "output_type": "stream",
          "name": "stdout",
          "text": [
            "11\n",
            "0b10100\n",
            "9\n",
            "0o100\n",
            "4113\n",
            "0xed0\n"
          ]
        }
      ]
    },
    {
      "cell_type": "code",
      "source": [
        "# 複素数\n",
        "a = 3+5j\n",
        "print(a)\n",
        "print(a.real)\n",
        "print(a.imag)\n",
        "b = complex(5,2)\n",
        "print(b)\n",
        "print(type(b))"
      ],
      "metadata": {
        "colab": {
          "base_uri": "https://localhost:8080/"
        },
        "id": "PuJibN4GPWgN",
        "outputId": "40e85ddf-38a2-4904-ad62-79605e570df0"
      },
      "execution_count": null,
      "outputs": [
        {
          "output_type": "stream",
          "name": "stdout",
          "text": [
            "(3+5j)\n",
            "3.0\n",
            "5.0\n",
            "(5+2j)\n",
            "<class 'complex'>\n"
          ]
        }
      ]
    },
    {
      "cell_type": "markdown",
      "source": [
        "## ・文字列"
      ],
      "metadata": {
        "id": "xqCmGTGvQyq_"
      }
    },
    {
      "cell_type": "code",
      "source": [
        "# 改行のしかた\n",
        "string = '私は\\n齊藤朝秀\\nです'\n",
        "print(string)\n",
        "text = '''文章を\n",
        "改行しながら\n",
        "書きましょう'''\n",
        "print(text)\n",
        "# 文字列の結合\n",
        "a = '齊藤'\n",
        "b = '朝秀'\n",
        "print(a+b)"
      ],
      "metadata": {
        "colab": {
          "base_uri": "https://localhost:8080/"
        },
        "id": "mAVGlGTjQ1om",
        "outputId": "5bd6a5be-0d33-4e4a-b340-eed37539f4af"
      },
      "execution_count": null,
      "outputs": [
        {
          "output_type": "stream",
          "name": "stdout",
          "text": [
            "私は\n",
            "齊藤朝秀\n",
            "です\n",
            "文章を\n",
            "改行しながら\n",
            "書きましょう\n",
            "齊藤朝秀\n"
          ]
        }
      ]
    },
    {
      "cell_type": "code",
      "source": [
        "# 文字列の操作いろいろある P60\n",
        "# 文字列を逆順にする\n",
        "txt = 'あいうえおかきくけこ'\n",
        "print(txt[::-1])"
      ],
      "metadata": {
        "colab": {
          "base_uri": "https://localhost:8080/"
        },
        "id": "pUfEtgs3SG1A",
        "outputId": "318f85d9-7e2b-4296-803a-9fa69741e9fe"
      },
      "execution_count": null,
      "outputs": [
        {
          "output_type": "stream",
          "name": "stdout",
          "text": [
            "こけくきかおえういあ\n"
          ]
        }
      ]
    },
    {
      "cell_type": "markdown",
      "source": [
        "## ・ビット演算子"
      ],
      "metadata": {
        "id": "lDGq-gFyShTZ"
      }
    },
    {
      "cell_type": "code",
      "source": [
        "# &,|,^,~：順にand, or, xor, not\n",
        "a = 0b00101\n",
        "b = 0b00011\n",
        "print(bin(a&b))\n",
        "print(bin(a|b))\n",
        "print(bin(a^b))\n",
        "print(bin(~(a))) # 結果がよくわからない"
      ],
      "metadata": {
        "colab": {
          "base_uri": "https://localhost:8080/"
        },
        "id": "r8Un_ZiJSli4",
        "outputId": "744acb04-df7b-45e1-94cf-8a2c8ec7bff0"
      },
      "execution_count": null,
      "outputs": [
        {
          "output_type": "stream",
          "name": "stdout",
          "text": [
            "0b1\n",
            "0b111\n",
            "0b110\n",
            "-0b110\n"
          ]
        }
      ]
    },
    {
      "cell_type": "code",
      "source": [
        "# シフト\n",
        "a =0b101011\n",
        "b =a << 1\n",
        "c =a >> 1\n",
        "print(bin(b))\n",
        "print(bin(c))"
      ],
      "metadata": {
        "colab": {
          "base_uri": "https://localhost:8080/"
        },
        "id": "v7rqK8wNU6Ot",
        "outputId": "bdedfd51-e286-4cb6-cb8c-2ad4c6a9ff9b"
      },
      "execution_count": null,
      "outputs": [
        {
          "output_type": "stream",
          "name": "stdout",
          "text": [
            "0b1010110\n",
            "0b10101\n"
          ]
        }
      ]
    },
    {
      "cell_type": "code",
      "source": [
        "# 下３ケタだけ取り出したいときは111でANDする\n",
        "# これをビットマスクという\n",
        "a = 0b10101\n",
        "b = 0b111\n",
        "print(bin(a & b))"
      ],
      "metadata": {
        "colab": {
          "base_uri": "https://localhost:8080/"
        },
        "id": "rMGBMKDJVVmh",
        "outputId": "379ef225-acd3-4865-9f90-759da520ee58"
      },
      "execution_count": null,
      "outputs": [
        {
          "output_type": "stream",
          "name": "stdout",
          "text": [
            "0b101\n"
          ]
        }
      ]
    },
    {
      "cell_type": "markdown",
      "source": [
        "## ・複合代入演算子"
      ],
      "metadata": {
        "id": "SkDhzGeyeOwX"
      }
    },
    {
      "cell_type": "code",
      "source": [
        "# +=以外にもいろいろある\n",
        "a = 2\n",
        "b = 3\n",
        "\n",
        "a += b\n",
        "print(\"+=:a=\",a)\n",
        "\n",
        "a -= b\n",
        "print(\"-=:a=\",a)\n",
        "\n",
        "a *= b\n",
        "print(\"*=:a=\",a)\n",
        "\n",
        "a /= b\n",
        "print(\"/=:a=\",a)\n",
        "\n",
        "a = 5\n",
        "\n",
        "a //= b\n",
        "print(\"//=:a=\",a) # 割算の商\n",
        "\n",
        "a = 5\n",
        "\n",
        "a %= b\n",
        "print(\"%=:a=\",a)\n",
        "\n",
        "a **= b\n",
        "print(\"**=:a=\",a)"
      ],
      "metadata": {
        "colab": {
          "base_uri": "https://localhost:8080/"
        },
        "id": "47xtw1g2eSnf",
        "outputId": "d3d9f2cc-4631-44f7-923a-0e1d23a657b5"
      },
      "execution_count": null,
      "outputs": [
        {
          "output_type": "stream",
          "name": "stdout",
          "text": [
            "+=:a= 5\n",
            "-=:a= 2\n",
            "*=:a= 6\n",
            "/=:a= 2.0\n",
            "//=:a= 1\n",
            "%=:a= 2\n",
            "**=:a= 8\n"
          ]
        }
      ]
    },
    {
      "cell_type": "markdown",
      "source": [
        "# ■ Ch04 標準ライブラリ"
      ],
      "metadata": {
        "id": "bB2-MjJzFGaK"
      }
    },
    {
      "cell_type": "markdown",
      "source": [
        "## ・組込関数"
      ],
      "metadata": {
        "id": "G0VT6OkCm761"
      }
    },
    {
      "cell_type": "code",
      "source": [
        "# 代表的なもの\n",
        "print(abs(-8)) #絶対値\n",
        "print(divmod(7,3)) #商と余りをタプル形式で\n",
        "print(max(2,3,1,5,4))\n",
        "print(min(2,3,1,5,4))\n",
        "print(pow(2,4)) # べき乗\n",
        "print(pow(2,4,3)) # べき乗結果を最後の数で割った余り"
      ],
      "metadata": {
        "colab": {
          "base_uri": "https://localhost:8080/"
        },
        "id": "oa2_cy1Km_uT",
        "outputId": "366e9cbe-8d3e-4b42-f280-92437895c53b"
      },
      "execution_count": null,
      "outputs": [
        {
          "output_type": "stream",
          "name": "stdout",
          "text": [
            "8\n",
            "(2, 1)\n",
            "5\n",
            "1\n",
            "16\n",
            "1\n"
          ]
        }
      ]
    },
    {
      "cell_type": "code",
      "source": [
        "# 文字列関連\n",
        "print(ord('齊')) #Unicode\n",
        "a = ord('齊')\n",
        "print(chr(a)) #Unicoeから文字を返す\n",
        "print(len('ぱいそん')) #文字数\n",
        "print(str(1976)+\"年\") # 数字を文字列に"
      ],
      "metadata": {
        "colab": {
          "base_uri": "https://localhost:8080/"
        },
        "id": "AKi7aC0AoGDW",
        "outputId": "548e5869-1227-4a88-c499-1247664b6ae1"
      },
      "execution_count": null,
      "outputs": [
        {
          "output_type": "stream",
          "name": "stdout",
          "text": [
            "40778\n",
            "齊\n",
            "4\n",
            "1976年\n"
          ]
        }
      ]
    },
    {
      "cell_type": "code",
      "source": [
        "# 入出力\n",
        "# print(値, sep=\" \", end\"\\n\")：これがデフォルト\n",
        "print(23,45,12,sep=',',end='-\\n')\n",
        "print(\"終わり\")"
      ],
      "metadata": {
        "colab": {
          "base_uri": "https://localhost:8080/"
        },
        "id": "Yb-J0DMdpVPV",
        "outputId": "7fcc6999-c8d6-4c59-8583-54f5841a828f"
      },
      "execution_count": null,
      "outputs": [
        {
          "output_type": "stream",
          "name": "stdout",
          "text": [
            "23,45,12-\n",
            "終わり\n"
          ]
        }
      ]
    },
    {
      "cell_type": "markdown",
      "source": [
        "## ・モデュールの読み込み mathなど"
      ],
      "metadata": {
        "id": "6u9eJaxrrYej"
      }
    },
    {
      "cell_type": "code",
      "source": [
        "import math # テキストP80\n",
        "print(math.pi)\n",
        "print(math.degrees(math.pi/2)) # ラジアンを360度単位に変換\n",
        "print(math.floor(18.2)) # 切り捨て。切り上げはceil"
      ],
      "metadata": {
        "colab": {
          "base_uri": "https://localhost:8080/"
        },
        "id": "WHRljevxrget",
        "outputId": "fc8abee7-29ce-4a8a-b36d-47840c07b7fd"
      },
      "execution_count": null,
      "outputs": [
        {
          "output_type": "stream",
          "name": "stdout",
          "text": [
            "3.141592653589793\n",
            "90.0\n",
            "18\n"
          ]
        }
      ]
    },
    {
      "cell_type": "code",
      "source": [
        "from random import randint\n",
        "print(randint(1,100)) # 1～100の整数の乱数"
      ],
      "metadata": {
        "colab": {
          "base_uri": "https://localhost:8080/"
        },
        "id": "3MihNlNXsbJR",
        "outputId": "26f6dd09-d01e-4f9f-aeae-f9797dcd4022"
      },
      "execution_count": null,
      "outputs": [
        {
          "output_type": "stream",
          "name": "stdout",
          "text": [
            "70\n"
          ]
        }
      ]
    },
    {
      "cell_type": "code",
      "source": [
        "# こういう使い方もある。上の方がスッキリしている。\n",
        "import random\n",
        "a = random.randint(1,100)\n",
        "print(a)"
      ],
      "metadata": {
        "colab": {
          "base_uri": "https://localhost:8080/"
        },
        "id": "MeyGSEVrtBY3",
        "outputId": "f84d9f44-2509-4d38-e504-861f6774bdf3"
      },
      "execution_count": null,
      "outputs": [
        {
          "output_type": "stream",
          "name": "stdout",
          "text": [
            "36\n"
          ]
        }
      ]
    },
    {
      "cell_type": "markdown",
      "source": [
        "## ・オブジェクトとメソッド"
      ],
      "metadata": {
        "id": "HihmvSDvuJrM"
      }
    },
    {
      "cell_type": "code",
      "source": [
        "# オブジェクトには実行できるメソッド（関数）がいろいろ定義されている。\n",
        "# 文字列のメソッドはP86のあたりを\n",
        "# 数値などの書式指定はP92\n",
        "s = 'hello python' # object\n",
        "S = s.upper() # 大文字に変換した値を返すmethod\n",
        "print(s) # s自体は変わらない\n",
        "print(S)"
      ],
      "metadata": {
        "colab": {
          "base_uri": "https://localhost:8080/"
        },
        "id": "3LwpvCARuN1i",
        "outputId": "ebce95d2-a8df-4dcf-e1b3-b21d06e57d16"
      },
      "execution_count": null,
      "outputs": [
        {
          "output_type": "stream",
          "name": "stdout",
          "text": [
            "hello python\n",
            "HELLO PYTHON\n"
          ]
        }
      ]
    },
    {
      "cell_type": "code",
      "source": [
        "a = 5\n",
        "b = 2.35\n",
        "c = 12.5\n",
        "print(f'{a:>10.2f}') # 10文字幅で右詰め、2位まで\n",
        "print(f'{b:>10.2f}')\n",
        "print(f'{c:>10.2f}')"
      ],
      "metadata": {
        "colab": {
          "base_uri": "https://localhost:8080/"
        },
        "id": "pzam0-KXzx9Z",
        "outputId": "7e39ff1f-3a48-419e-c129-6ac662e30c71"
      },
      "execution_count": null,
      "outputs": [
        {
          "output_type": "stream",
          "name": "stdout",
          "text": [
            "      5.00\n",
            "      2.35\n",
            "     12.50\n"
          ]
        }
      ]
    },
    {
      "cell_type": "markdown",
      "source": [
        "# ■ Ch05 条件分岐・繰り返し・例外処理"
      ],
      "metadata": {
        "id": "qOa_FnzuFMjC"
      }
    },
    {
      "cell_type": "markdown",
      "source": [
        "## ・if文 P96"
      ],
      "metadata": {
        "id": "aTFNOFkEU1zp"
      }
    },
    {
      "cell_type": "code",
      "source": [
        "# and構文を簡略化してif文を\n",
        "from random import randint\n",
        "a = randint(0,10)\n",
        "print(a)\n",
        "if 5 <= a <= 8: # (a>=5) and (a<=8)の簡略版\n",
        "  print(\"あたりです。\")\n",
        "else:\n",
        "  print(\"残念！\")"
      ],
      "metadata": {
        "colab": {
          "base_uri": "https://localhost:8080/"
        },
        "id": "YW5yDwxXU5LM",
        "outputId": "be2be427-40e4-4abb-d2a5-fdfea1d19aa4"
      },
      "execution_count": null,
      "outputs": [
        {
          "output_type": "stream",
          "name": "stdout",
          "text": [
            "5\n",
            "あたりです。\n"
          ]
        }
      ]
    },
    {
      "cell_type": "code",
      "source": [
        "# 三項演算子に似た書き方。かなりシンプルになるがわかりにくいか\n",
        "from random import randint\n",
        "a = randint(0,100)\n",
        "b = randint(0,100)\n",
        "print(a)\n",
        "print(b)\n",
        "c = a if a>b else b # cはa>bならa,でなければb\n",
        "print(f'大きいのは{c}です')"
      ],
      "metadata": {
        "colab": {
          "base_uri": "https://localhost:8080/"
        },
        "id": "OmqynCnuWpp_",
        "outputId": "96eadfb7-72ab-4cfa-ea93-6c0e8160f01e"
      },
      "execution_count": null,
      "outputs": [
        {
          "output_type": "stream",
          "name": "stdout",
          "text": [
            "38\n",
            "37\n",
            "大きいのは38です\n"
          ]
        }
      ]
    },
    {
      "cell_type": "markdown",
      "source": [
        "## ・while文 P111"
      ],
      "metadata": {
        "id": "-scFS_1EYBKo"
      }
    },
    {
      "cell_type": "code",
      "source": [
        "# 条件に合致している間、処理を繰り返す P111\n",
        "# 無限ルプで暴走したら Ctrl + z で止まる。"
      ],
      "metadata": {
        "id": "rMLuoKZUYD4l"
      },
      "execution_count": null,
      "outputs": []
    },
    {
      "cell_type": "markdown",
      "source": [
        "## ・for文 P121"
      ],
      "metadata": {
        "id": "lfR3T4LgZu6m"
      }
    },
    {
      "cell_type": "code",
      "source": [
        "# P121"
      ],
      "metadata": {
        "colab": {
          "base_uri": "https://localhost:8080/"
        },
        "id": "1n2Bck-daGp_",
        "outputId": "05d52016-15c9-41ce-de6f-d8025a18b680"
      },
      "execution_count": null,
      "outputs": [
        {
          "output_type": "execute_result",
          "data": {
            "text/plain": [
              "5"
            ]
          },
          "metadata": {},
          "execution_count": 8
        }
      ]
    },
    {
      "cell_type": "markdown",
      "source": [
        "## ・try文　例外処理 P133"
      ],
      "metadata": {
        "id": "2C_SV9mWbozv"
      }
    },
    {
      "cell_type": "code",
      "source": [
        "# P133"
      ],
      "metadata": {
        "id": "rjvKS8_ubt40"
      },
      "execution_count": null,
      "outputs": []
    },
    {
      "cell_type": "markdown",
      "source": [
        "# ■ Ch06 リスト P142"
      ],
      "metadata": {
        "id": "90Kk0qTAFSVi"
      }
    },
    {
      "cell_type": "markdown",
      "source": [
        "# ■ Ch07 タプル"
      ],
      "metadata": {
        "id": "CL6jRcGmFbIr"
      }
    },
    {
      "cell_type": "markdown",
      "source": [
        "# ■ Ch08 セット（集合）"
      ],
      "metadata": {
        "id": "cZ0oRs8LFf2q"
      }
    },
    {
      "cell_type": "markdown",
      "source": [
        "# ■ Ch09 辞書"
      ],
      "metadata": {
        "id": "ReabjsB7FkVK"
      }
    },
    {
      "cell_type": "markdown",
      "source": [
        "# ■ Ch10 定義関数"
      ],
      "metadata": {
        "id": "-3BwBU8VFoRf"
      }
    },
    {
      "cell_type": "markdown",
      "source": [
        "# ■ Ch11 関数の高度な利用"
      ],
      "metadata": {
        "id": "IBQsZnFRFuI_"
      }
    },
    {
      "cell_type": "markdown",
      "source": [
        "# ■ Ch12 クラス定義"
      ],
      "metadata": {
        "id": "ZTP-jfN1Fyjq"
      }
    },
    {
      "cell_type": "markdown",
      "source": [
        "# ■ Ch13 テキストファイル"
      ],
      "metadata": {
        "id": "Y7_QGI1iF3iK"
      }
    },
    {
      "cell_type": "markdown",
      "source": [
        "# ■ Ch14 グラフ"
      ],
      "metadata": {
        "id": "A36auwlWF7gS"
      }
    },
    {
      "cell_type": "markdown",
      "source": [
        "# ■ Ch15 NumPy配列"
      ],
      "metadata": {
        "id": "r__X66RMF-rr"
      }
    },
    {
      "cell_type": "markdown",
      "source": [
        "# ■ Ch16 機械学習"
      ],
      "metadata": {
        "id": "mbudWsDcGFdD"
      }
    },
    {
      "cell_type": "code",
      "source": [
        "%pwd"
      ],
      "metadata": {
        "colab": {
          "base_uri": "https://localhost:8080/",
          "height": 37
        },
        "id": "CuwXslappN-i",
        "outputId": "a89a6269-881c-4e6a-bddc-67cdd67d5de4"
      },
      "execution_count": 2,
      "outputs": [
        {
          "output_type": "execute_result",
          "data": {
            "application/vnd.google.colaboratory.intrinsic+json": {
              "type": "string"
            },
            "text/plain": [
              "'/content'"
            ]
          },
          "metadata": {},
          "execution_count": 2
        }
      ]
    },
    {
      "cell_type": "code",
      "source": [
        ""
      ],
      "metadata": {
        "id": "HJx2nn_CpPcT"
      },
      "execution_count": null,
      "outputs": []
    }
  ]
}